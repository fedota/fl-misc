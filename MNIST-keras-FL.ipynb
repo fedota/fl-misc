{
 "cells": [
  {
   "cell_type": "code",
   "execution_count": 2,
   "metadata": {},
   "outputs": [],
   "source": [
    "from __future__ import absolute_import, division, print_function, unicode_literals\n",
    "\n",
    "import gzip\n",
    "import os\n",
    "import sys\n",
    "import time\n",
    "from six.moves import urllib\n",
    "from six.moves import xrange  \n",
    "import tensorflow as tf\n",
    "import numpy as np\n",
    "\n",
    "import six\n",
    "from pathlib import Path\n",
    "\n",
    "import tensorflow as tf\n",
    "import keras\n",
    "from tensorflow.keras import layers\n",
    "from keras.models import Sequential\n",
    "from keras.layers import Dense, Dropout, Flatten\n",
    "from keras.layers import Conv2D, MaxPooling2D\n",
    "from keras import backend as K\n",
    "from keras.models import load_model\n"
   ]
  },
  {
   "cell_type": "code",
   "execution_count": 3,
   "metadata": {},
   "outputs": [],
   "source": [
    "SOURCE_URL = 'https://storage.googleapis.com/cvdf-datasets/mnist/'\n",
    "WORK_DIRECTORY = 'data'\n",
    "IMAGE_SIZE = 28\n",
    "NUM_CHANNELS = 1\n",
    "PIXEL_DEPTH = 255\n",
    "NUM_LABELS = 10\n",
    "VALIDATION_SIZE = 5000  # Size of the validation set.\n",
    "SEED = 66478  # Set to None for random seed.\n",
    "BATCH_SIZE = 64\n",
    "NUM_EPOCHS = 1\n",
    "EVAL_BATCH_SIZE = 64\n",
    "EVAL_FREQUENCY = 100  # Number of steps between evaluations."
   ]
  },
  {
   "cell_type": "code",
   "execution_count": 4,
   "metadata": {},
   "outputs": [],
   "source": [
    "def data_type():\n",
    "  \"\"\"Return the type of the activations, weights, and placeholder variables.\"\"\"\n",
    "#   if FLAGS.use_fp16:\n",
    "#     return tf.float16\n",
    "#   else:\n",
    "  return tf.float32\n"
   ]
  },
  {
   "cell_type": "code",
   "execution_count": 5,
   "metadata": {},
   "outputs": [],
   "source": [
    "def maybe_download(filename):\n",
    "  \"\"\"Download the data from Yann's website, unless it's already here.\"\"\"\n",
    "  if not tf.gfile.Exists(WORK_DIRECTORY):\n",
    "    tf.gfile.MakeDirs(WORK_DIRECTORY)\n",
    "  filepath = os.path.join(WORK_DIRECTORY, filename)\n",
    "  if not tf.gfile.Exists(filepath):\n",
    "    filepath, _ = urllib.request.urlretrieve(SOURCE_URL + filename, filepath)\n",
    "    with tf.gfile.GFile(filepath) as f:\n",
    "      size = f.size()\n",
    "    print('Successfully downloaded', filename, size, 'bytes.')\n",
    "  return filepath"
   ]
  },
  {
   "cell_type": "code",
   "execution_count": 6,
   "metadata": {},
   "outputs": [],
   "source": [
    "def extract_data(filename, num_images):\n",
    "  \"\"\"Extract the images into a 4D tensor [image index, y, x, channels].\n",
    "  Values are rescaled from [0, 255] down to [-0.5, 0.5].\n",
    "  \"\"\"\n",
    "  print('Extracting', filename)\n",
    "  with gzip.open(filename) as bytestream:\n",
    "    bytestream.read(16)\n",
    "    buf = bytestream.read(IMAGE_SIZE * IMAGE_SIZE * num_images * NUM_CHANNELS)\n",
    "    data = np.frombuffer(buf, dtype=np.uint8).astype(np.float32)\n",
    "    data = (data - (PIXEL_DEPTH / 2.0)) / PIXEL_DEPTH\n",
    "    data = data.reshape(num_images, IMAGE_SIZE, IMAGE_SIZE, NUM_CHANNELS)\n",
    "    return data"
   ]
  },
  {
   "cell_type": "code",
   "execution_count": 7,
   "metadata": {},
   "outputs": [],
   "source": [
    "def extract_labels(filename, num_images):\n",
    "  \"\"\"Extract the labels into a vector of int64 label IDs.\"\"\"\n",
    "  print('Extracting', filename)\n",
    "  with gzip.open(filename) as bytestream:\n",
    "    bytestream.read(8)\n",
    "    buf = bytestream.read(1 * num_images)\n",
    "    labels = np.frombuffer(buf, dtype=np.uint8).astype(np.int64)\n",
    "  return labels"
   ]
  },
  {
   "cell_type": "code",
   "execution_count": 8,
   "metadata": {},
   "outputs": [],
   "source": [
    "def fake_data(num_images):\n",
    "  \"\"\"Generate a fake dataset that matches the dimensions of MNIST.\"\"\"\n",
    "  data = np.ndarray(\n",
    "      shape=(num_images, IMAGE_SIZE, IMAGE_SIZE, NUM_CHANNELS),\n",
    "      dtype=np.float32)\n",
    "  labels = np.zeros(shape=(num_images,), dtype=np.int64)\n",
    "  for image in xrange(num_images):\n",
    "    label = image % 2\n",
    "    data[image, :, :, 0] = label - 0.5\n",
    "    labels[image] = label\n",
    "  return data, labels"
   ]
  },
  {
   "cell_type": "code",
   "execution_count": 9,
   "metadata": {},
   "outputs": [],
   "source": [
    "def error_rate(predictions, labels):\n",
    "  \"\"\"Return the error rate based on dense predictions and sparse labels.\"\"\"\n",
    "  return 100.0 - (\n",
    "      100.0 *\n",
    "      np.sum(np.argmax(predictions, 1) == labels) /\n",
    "      predictions.shape[0])"
   ]
  },
  {
   "cell_type": "code",
   "execution_count": 10,
   "metadata": {},
   "outputs": [
    {
     "name": "stdout",
     "output_type": "stream",
     "text": [
      "Extracting data\\train-images-idx3-ubyte.gz\n",
      "Extracting data\\train-labels-idx1-ubyte.gz\n",
      "Extracting data\\t10k-images-idx3-ubyte.gz\n",
      "Extracting data\\t10k-labels-idx1-ubyte.gz\n"
     ]
    }
   ],
   "source": [
    "train_data_filename = maybe_download('train-images-idx3-ubyte.gz')\n",
    "train_labels_filename = maybe_download('train-labels-idx1-ubyte.gz')\n",
    "test_data_filename = maybe_download('t10k-images-idx3-ubyte.gz')\n",
    "test_labels_filename = maybe_download('t10k-labels-idx1-ubyte.gz')\n",
    "\n",
    "train_data = extract_data(train_data_filename, 60000)\n",
    "train_labels = extract_labels(train_labels_filename, 60000)\n",
    "test_data = extract_data(test_data_filename, 10000)\n",
    "test_labels = extract_labels(test_labels_filename, 10000)\n",
    "\n",
    "validation_data = train_data[:VALIDATION_SIZE, ...]\n",
    "validation_labels = train_labels[:VALIDATION_SIZE]\n",
    "train_data = train_data[VALIDATION_SIZE:, ...]\n",
    "train_labels = train_labels[VALIDATION_SIZE:]\n",
    "\n",
    "num_images = train_labels.shape[0]\n"
   ]
  },
  {
   "cell_type": "code",
   "execution_count": 11,
   "metadata": {},
   "outputs": [
    {
     "data": {
      "text/plain": [
       "<Figure size 640x480 with 1 Axes>"
      ]
     },
     "metadata": {},
     "output_type": "display_data"
    }
   ],
   "source": [
    "import matplotlib.pyplot as plt\n",
    "image = np.asarray(train_data[1]).squeeze()\n",
    "plt.imshow(image)\n",
    "plt.show()"
   ]
  },
  {
   "cell_type": "code",
   "execution_count": 12,
   "metadata": {},
   "outputs": [
    {
     "data": {
      "text/plain": [
       "(55000, 28, 28, 1)"
      ]
     },
     "execution_count": 12,
     "metadata": {},
     "output_type": "execute_result"
    }
   ],
   "source": [
    "train_data.shape"
   ]
  },
  {
   "cell_type": "code",
   "execution_count": 13,
   "metadata": {},
   "outputs": [],
   "source": [
    "# Split data into 3 devices\n",
    "\n",
    "train_data_device1 = train_data[:18000]\n",
    "train_data_device2 = train_data[18000:36000]\n",
    "train_data_device3 = train_data[36000:]\n",
    "\n",
    "np.save('./device1/mnist-images', train_data_device1)\n",
    "np.save('./device2/mnist-images', train_data_device2)\n",
    "np.save('./device3/mnist-images', train_data_device3)"
   ]
  },
  {
   "cell_type": "code",
   "execution_count": 14,
   "metadata": {},
   "outputs": [],
   "source": [
    "train_labels_device1 = train_labels[:18000]\n",
    "train_labels_device2 = train_labels[18000:36000]\n",
    "train_labels_device3 = train_labels[36000:]\n",
    "\n",
    "# Convert to one-hot encoding\n",
    "train_labels_ohe_device1 = keras.utils.to_categorical(train_labels_device1, NUM_LABELS)\n",
    "train_labels_ohe_device2 = keras.utils.to_categorical(train_labels_device2, NUM_LABELS)\n",
    "train_labels_ohe_device3 = keras.utils.to_categorical(train_labels_device3, NUM_LABELS)\n",
    "\n",
    "np.save('./device1/mnist-labels', train_labels_ohe_device1)\n",
    "np.save('./device2/mnist-labels', train_labels_ohe_device2)\n",
    "np.save('./device3/mnist-labels', train_labels_ohe_device3)"
   ]
  },
  {
   "cell_type": "code",
   "execution_count": 15,
   "metadata": {},
   "outputs": [],
   "source": [
    "def get_mnist_images_and_labels(device_path):\n",
    "    images = np.load(device_path + '/mnist-images.npy')\n",
    "    labels = np.load(device_path + '/mnist-labels.npy')\n",
    "    return (images, labels)"
   ]
  },
  {
   "cell_type": "code",
   "execution_count": 16,
   "metadata": {},
   "outputs": [],
   "source": [
    "train_images, train_labels = get_mnist_images_and_labels('./device1')"
   ]
  },
  {
   "cell_type": "code",
   "execution_count": 17,
   "metadata": {},
   "outputs": [
    {
     "data": {
      "image/png": "[encoded data removed]",
      "text/plain": [
       "<Figure size 432x288 with 1 Axes>"
      ]
     },
     "metadata": {
      "needs_background": "light"
     },
     "output_type": "display_data"
    }
   ],
   "source": [
    "import matplotlib.pyplot as plt\n",
    "image = np.asarray(train_images[0]).squeeze()\n",
    "plt.imshow(image)\n",
    "plt.show()"
   ]
  },
  {
   "cell_type": "code",
   "execution_count": 18,
   "metadata": {},
   "outputs": [
    {
     "data": {
      "text/plain": [
       "array([0., 0., 0., 0., 0., 0., 0., 1., 0., 0.], dtype=float32)"
      ]
     },
     "execution_count": 18,
     "metadata": {},
     "output_type": "execute_result"
    }
   ],
   "source": [
    "train_labels[0]"
   ]
  },
  {
   "cell_type": "code",
   "execution_count": 19,
   "metadata": {},
   "outputs": [
    {
     "name": "stdout",
     "output_type": "stream",
     "text": [
      "1.14.0\n",
      "2.2.4-tf\n"
     ]
    }
   ],
   "source": [
    "print(tf.version.VERSION)\n",
    "print(tf.keras.__version__)"
   ]
  },
  {
   "cell_type": "markdown",
   "metadata": {},
   "source": [
    "# Server"
   ]
  },
  {
   "cell_type": "code",
   "execution_count": 22,
   "metadata": {},
   "outputs": [],
   "source": [
    "input_shape = (IMAGE_SIZE, IMAGE_SIZE, 1)\n",
    "\n",
    "# \n",
    "model = Sequential()\n",
    "model.add(Conv2D(32, kernel_size=(3, 3),\n",
    "                 activation='relu',\n",
    "                 input_shape=input_shape))\n",
    "model.add(Conv2D(64, (3, 3), activation='relu'))\n",
    "model.add(MaxPooling2D(pool_size=(2, 2)))\n",
    "model.add(Dropout(0.25))\n",
    "model.add(Flatten())\n",
    "model.add(Dense(128, activation='relu'))\n",
    "model.add(Dropout(0.5))\n",
    "model.add(Dense(NUM_LABELS, activation='softmax'))"
   ]
  },
  {
   "cell_type": "code",
   "execution_count": 23,
   "metadata": {},
   "outputs": [],
   "source": [
    "model.compile(loss=keras.losses.categorical_crossentropy,\n",
    "              optimizer=keras.optimizers.SGD(),\n",
    "              metrics=['accuracy'])"
   ]
  },
  {
   "cell_type": "code",
   "execution_count": 24,
   "metadata": {},
   "outputs": [],
   "source": [
    "#Save model\n",
    "model.save('./server/model.h5')\n",
    "\n",
    "# Save weights to a TensorFlow Checkpoint file\n",
    "model.save_weights('./server/checkpoint')"
   ]
  },
  {
   "cell_type": "markdown",
   "metadata": {},
   "source": [
    "# Devices"
   ]
  },
  {
   "cell_type": "code",
   "execution_count": 25,
   "metadata": {},
   "outputs": [],
   "source": [
    "# Returns (n, weight_updates) after training on local data\n",
    "\n",
    "def train_on_device(device_path, model_path, ckpt_path):\n",
    "    \n",
    "    # Store pre-trained model and weights \n",
    "    old_model = load_model(model_path)\n",
    "    old_model.load_weights(ckpt_path)\n",
    "    \n",
    "    # Initialize model and checkpoint, which are obtained from server\n",
    "    device_model = load_model(model_path)\n",
    "    device_model.load_weights(ckpt_path)\n",
    "    \n",
    "#    print(device_model.summary())\n",
    "    \n",
    "    # Get training data present on device\n",
    "    train_images, train_labels = get_mnist_images_and_labels(device_path)\n",
    "    \n",
    "    # Train model\n",
    "    device_model.fit(train_images, train_labels,\n",
    "          batch_size=BATCH_SIZE,\n",
    "          epochs=2,\n",
    "          verbose=1)\n",
    "    \n",
    "    # Load model to store weight updates\n",
    "    update_weights = load_model(model_path)\n",
    "    \n",
    "    # Number of batches trained on device\n",
    "    num_batches = train_images.shape[0] // BATCH_SIZE\n",
    "    \n",
    "    # Calculate weight updates\n",
    "    for i in range(len(device_model.layers)):\n",
    "        \n",
    "        # Pre-trained weights\n",
    "        old_layer_weights = old_model.layers[i].get_weights()\n",
    "        \n",
    "        # Post-trained weights        \n",
    "        new_layer_weights = device_model.layers[i].get_weights()\n",
    "\n",
    "        # Weight updates calculation\n",
    "        update_weights.layers[i].set_weights(num_batches * (np.asarray(new_layer_weights) - np.asarray(old_layer_weights)))\n",
    "    \n",
    "#        print(\"old weights: \",  old_layer_weights)\n",
    "#        print(\"new weights: \",  new_layer_weights)\n",
    "#        print(\"update weights: \",  update_weights.layers[i].get_weights())\n",
    "    \n",
    "    \n",
    "    # Save weight updates\n",
    "    update_weights_path = device_path + '/weight_updates'\n",
    "    update_weights.save_weights(update_weights_path)\n",
    "    \n",
    "    return (num_batches, update_weights_path)"
   ]
  },
  {
   "cell_type": "markdown",
   "metadata": {},
   "source": [
    "# Train on devices"
   ]
  },
  {
   "cell_type": "code",
   "execution_count": 26,
   "metadata": {},
   "outputs": [],
   "source": [
    "model_path = './server/model.h5'\n",
    "ckpt_path = './server/checkpoint'"
   ]
  },
  {
   "cell_type": "code",
   "execution_count": 27,
   "metadata": {},
   "outputs": [
    {
     "name": "stderr",
     "output_type": "stream",
     "text": [
      "W0830 15:59:24.906618 18044 deprecation.py:323] From C:\\Users\\Admin\\Anaconda3\\envs\\dl\\lib\\site-packages\\tensorflow\\python\\ops\\math_grad.py:1250: add_dispatch_support.<locals>.wrapper (from tensorflow.python.ops.array_ops) is deprecated and will be removed in a future version.\n",
      "Instructions for updating:\n",
      "Use tf.where in 2.0, which has the same broadcast rule as np.where\n"
     ]
    },
    {
     "name": "stdout",
     "output_type": "stream",
     "text": [
      "Epoch 1/2\n",
      "18000/18000 [==============================] - 30s 2ms/step - loss: 1.8538 - acc: 0.3845\n",
      "Epoch 2/2\n",
      "18000/18000 [==============================] - 5s 272us/step - loss: 0.7543 - acc: 0.7644\n"
     ]
    }
   ],
   "source": [
    "# Train on device 1\n",
    "n_device1, update_weights_device1 = train_on_device('./device1', model_path, ckpt_path)"
   ]
  },
  {
   "cell_type": "code",
   "execution_count": 36,
   "metadata": {},
   "outputs": [
    {
     "name": "stdout",
     "output_type": "stream",
     "text": [
      "Epoch 1/2\n",
      "18000/18000 [==============================] - 5s 269us/step - loss: 0.4777 - acc: 0.8509\n",
      "Epoch 2/2\n",
      "18000/18000 [==============================] - 9s 474us/step - loss: 0.4040 - acc: 0.8753\n"
     ]
    }
   ],
   "source": [
    "# Train on device 2\n",
    "n_device2, update_weights_device2 = train_on_device('./device2', model_path, ckpt_path)"
   ]
  },
  {
   "cell_type": "code",
   "execution_count": 37,
   "metadata": {},
   "outputs": [
    {
     "name": "stdout",
     "output_type": "stream",
     "text": [
      "Epoch 1/2\n",
      "19000/19000 [==============================] - 7s 361us/step - loss: 0.4543 - acc: 0.8608\n",
      "Epoch 2/2\n",
      "19000/19000 [==============================] - 5s 277us/step - loss: 0.3891 - acc: 0.8805\n"
     ]
    }
   ],
   "source": [
    "# Train on device 3\n",
    "n_device3, update_weights_device3 = train_on_device('./device3', model_path, ckpt_path)"
   ]
  },
  {
   "cell_type": "code",
   "execution_count": 38,
   "metadata": {},
   "outputs": [
    {
     "name": "stdout",
     "output_type": "stream",
     "text": [
      "[(281, './device1/weight_updates'), (281, './device2/weight_updates'), (296, './device3/weight_updates')]\n"
     ]
    }
   ],
   "source": [
    "updates = [(n_device1, update_weights_device1), (n_device2, update_weights_device2), (n_device3, update_weights_device3)]\n",
    "print(updates)"
   ]
  },
  {
   "cell_type": "markdown",
   "metadata": {},
   "source": [
    "# Federated Averaging"
   ]
  },
  {
   "cell_type": "code",
   "execution_count": 39,
   "metadata": {},
   "outputs": [],
   "source": [
    "def federated_averaging(updates, model_path, ckpt_path):\n",
    "    \n",
    "    total_num_batches = 0\n",
    "    \n",
    "    # Load model architecture\n",
    "    average_weight_updates = load_model(model_path)\n",
    "    sum_weight_updates = load_model(model_path)\n",
    "    device_weight_updates = load_model(model_path)\n",
    "    \n",
    "    # Calculate sum of weight updates from all devices\n",
    "    for device_index in range(len(updates)):\n",
    "        \n",
    "        n, weight_updates_path = updates[device_index]\n",
    "        \n",
    "        total_num_batches += n\n",
    "        \n",
    "        if device_index == 0:\n",
    "             sum_weight_updates.load_weights(weight_updates_path)\n",
    "                \n",
    "        else:\n",
    "            # Load device weight updates checkpoint\n",
    "            device_weight_updates.load_weights(weight_updates_path)\n",
    "            \n",
    "            # Add weight updates from device to prefix sum\n",
    "            for layer_index in range(len(sum_weight_updates.layers)):\n",
    "\n",
    "                # Old sum of weight updates\n",
    "                old_sum_weight_updates_values = sum_weight_updates.layers[layer_index].get_weights()\n",
    "\n",
    "                # Device weight updates      \n",
    "                device_weight_updates_values = device_weight_updates.layers[layer_index].get_weights()\n",
    "\n",
    "                # Weight updates calculation\n",
    "                sum_weight_updates.layers[layer_index].set_weights(np.asarray(old_sum_weight_updates_values) \n",
    "                                                                 + np.asarray(device_weight_updates_values))\n",
    "\n",
    "#                print(\"old weights: \",  old_layer_weights)\n",
    "#                print(\"new weights: \",  new_layer_weights)\n",
    "#                print(\"update weights: \",  update_weights.layers[i].get_weights())\n",
    "\n",
    "    \n",
    "    # Calculate average\n",
    "    for layer_index in range(len(sum_weight_updates.layers)):\n",
    "\n",
    "        # Value of sum of weight updates\n",
    "        sum_weight_updates_values = sum_weight_updates.layers[layer_index].get_weights()\n",
    "\n",
    "        # Calculate average and store\n",
    "        average_weight_updates.layers[layer_index].set_weights( np.asarray(sum_weight_updates_values)/total_num_batches )\n",
    "\n",
    "#        print(\"old weights: \",  old_layer_weights)\n",
    "#        print(\"new weights: \",  new_layer_weights)\n",
    "#        print(\"update weights: \",  update_weights.layers[i].get_weights())\n",
    "            \n",
    "    # Add average of weight updates to checkpoint\n",
    "    # Load model and checkpoints\n",
    "    model = load_model(model_path)\n",
    "    model.load_weights(ckpt_path)\n",
    "    \n",
    "    for layer_index in range(len(model.layers)):\n",
    "        \n",
    "        # Average of weight updates values\n",
    "        average_weight_updates_values = average_weight_updates.layers[layer_index].get_weights()\n",
    "        \n",
    "        old_model_values = model.layers[layer_index].get_weights()\n",
    "        \n",
    "        model.layers[layer_index].set_weights(np.asarray(old_model_values) + np.asarray(average_weight_updates_values))\n",
    "    \n",
    "    # Save updated model checkpoints\n",
    "    model.save_weights(ckpt_path)\n",
    "        "
   ]
  },
  {
   "cell_type": "code",
   "execution_count": 40,
   "metadata": {},
   "outputs": [],
   "source": [
    "federated_averaging(updates, model_path, ckpt_path)"
   ]
  }
 ],
 "metadata": {
  "kernelspec": {
   "display_name": "dl",
   "language": "python",
   "name": "dl"
  },
  "language_info": {
   "codemirror_mode": {
    "name": "ipython",
    "version": 3
   },
   "file_extension": ".py",
   "mimetype": "text/x-python",
   "name": "python",
   "nbconvert_exporter": "python",
   "pygments_lexer": "ipython3",
   "version": "3.6.6"
  }
 },
 "nbformat": 4,
 "nbformat_minor": 2
}
